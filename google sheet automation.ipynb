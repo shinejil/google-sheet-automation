{
 "cells": [
  {
   "cell_type": "code",
   "execution_count": null,
   "id": "11d1a495",
   "metadata": {},
   "outputs": [],
   "source": [
    "import gspread\n",
    "import pandas as pd\n",
    "\n",
    "\n",
    "\n",
    "cred_file=\"tolet-388713-348dde0333b8.json\"\n",
    "gc=gspread.service_account(cred_file)\n",
    "gc\n",
    "\n",
    "spreadsheet=gc.open(\"rental_properties\")\n",
    "\n",
    "\n",
    "sheet=spreadsheet.worksheet('MainSheet')\n",
    "\n",
    "\n",
    "data = pd.DataFrame(sheet.get_all_records())\n",
    "\n",
    "for index, property_data in data.iterrows():\n",
    "    places = property_data['place']\n",
    "    try:\n",
    "        # Check if a sub-sheet with the place name already exists\n",
    "        sub_sheet = spreadsheet.worksheet(places)\n",
    "         # Get the headers and data values\n",
    "        values = property_data.tolist()\n",
    "        existing_values = sub_sheet.get_all_values()\n",
    "        if values not in existing_values:\n",
    "            # Append the headers and values to the sub-shee\n",
    "            sub_sheet.append_row(values)\n",
    "    except gspread.WorksheetNotFound:\n",
    "        # If the sub-sheet doesn't exist, create a new one\n",
    "        sub_sheet = spreadsheet.add_worksheet(title=places, rows=\"100\", cols=\"20\")\n",
    "        headers = property_data.index.tolist()\n",
    "        values = property_data.tolist()\n",
    "\n",
    "        # Append the headers and values to the sub-sheet\n",
    "        sub_sheet.append_row(headers)\n",
    "        sub_sheet.append_row(values)\n",
    "        #print(values)\n",
    "        print(\"Data has been copied to  new sub-sheets successfully.\")\n",
    "   \n",
    "\n",
    "print(\"Data has been copied to sub-sheets successfully.\")"
   ]
  }
 ],
 "metadata": {
  "kernelspec": {
   "display_name": "environment",
   "language": "python",
   "name": "other-env"
  },
  "language_info": {
   "codemirror_mode": {
    "name": "ipython",
    "version": 3
   },
   "file_extension": ".py",
   "mimetype": "text/x-python",
   "name": "python",
   "nbconvert_exporter": "python",
   "pygments_lexer": "ipython3",
   "version": "3.9.7"
  }
 },
 "nbformat": 4,
 "nbformat_minor": 5
}
